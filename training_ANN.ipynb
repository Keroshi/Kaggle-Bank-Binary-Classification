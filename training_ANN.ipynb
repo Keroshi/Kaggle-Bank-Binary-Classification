{
 "cells": [
  {
   "cell_type": "code",
   "id": "initial_id",
   "metadata": {
    "collapsed": true,
    "ExecuteTime": {
     "end_time": "2025-08-07T12:33:06.349263Z",
     "start_time": "2025-08-07T12:32:55.402465Z"
    }
   },
   "source": [
    "import pandas as pd\n",
    "from sklearn.preprocessing import StandardScaler, LabelEncoder\n",
    "from sklearn.model_selection import train_test_split\n",
    "from tensorflow.keras.models import Sequential\n",
    "from tensorflow.keras.layers import Dense\n",
    "from tensorflow.keras.layers import Input\n",
    "import os\n",
    "\n",
    "base_dir = \"./inputs\"\n",
    "files = os.listdir(base_dir)\n",
    "files"
   ],
   "outputs": [
    {
     "data": {
      "text/plain": [
       "['bank-full.csv', 'sample_submission.csv', 'test.csv', 'train.csv']"
      ]
     },
     "execution_count": 1,
     "metadata": {},
     "output_type": "execute_result"
    }
   ],
   "execution_count": 1
  },
  {
   "metadata": {
    "ExecuteTime": {
     "end_time": "2025-08-07T12:33:09.789443Z",
     "start_time": "2025-08-07T12:33:06.959861Z"
    }
   },
   "cell_type": "code",
   "source": [
    "train_df = pd.read_csv(os.path.join(base_dir, files[3])).set_index(\"id\")\n",
    "target = train_df[\"y\"]\n",
    "train_df.drop(\"y\", axis=1, inplace=True)\n",
    "orig_df = pd.read_csv(os.path.join(base_dir, files[0]))\n",
    "orig_target = orig_df[\"y\"]\n",
    "orig_df.drop(\"y\", axis=1, inplace=True)"
   ],
   "id": "ac52c70f3e5752b3",
   "outputs": [],
   "execution_count": 2
  },
  {
   "metadata": {
    "ExecuteTime": {
     "end_time": "2025-08-07T12:33:12.553353Z",
     "start_time": "2025-08-07T12:33:09.829014Z"
    }
   },
   "cell_type": "code",
   "source": [
    "# Encode categorical columns\n",
    "categories = train_df.select_dtypes(include=[\"object\"]).columns\n",
    "le = LabelEncoder()\n",
    "for column in categories:\n",
    "    train_df[column] = le.fit_transform(train_df[column])\n",
    "    orig_df[column] = le.transform(orig_df[column])\n",
    "orig_target = le.fit_transform(orig_target)"
   ],
   "id": "94cf5c65990c863",
   "outputs": [],
   "execution_count": 3
  },
  {
   "metadata": {
    "ExecuteTime": {
     "end_time": "2025-08-07T12:33:13.275682Z",
     "start_time": "2025-08-07T12:33:12.590338Z"
    }
   },
   "cell_type": "code",
   "source": [
    "# Scale the data\n",
    "sdt = StandardScaler()\n",
    "train_df = sdt.fit_transform(train_df)\n",
    "orig_df = sdt.fit_transform(orig_df)"
   ],
   "id": "31bcc7839b03a98c",
   "outputs": [],
   "execution_count": 4
  },
  {
   "metadata": {
    "ExecuteTime": {
     "end_time": "2025-08-07T12:33:13.834059Z",
     "start_time": "2025-08-07T12:33:13.305754Z"
    }
   },
   "cell_type": "code",
   "source": "X_train, X_test, y_train, y_test = train_test_split(train_df, target, test_size=0.2, random_state=42)",
   "id": "5ce9e7e221e5faf4",
   "outputs": [],
   "execution_count": 5
  },
  {
   "metadata": {
    "ExecuteTime": {
     "end_time": "2025-08-07T12:52:28.255733Z",
     "start_time": "2025-08-07T12:33:13.860769Z"
    }
   },
   "cell_type": "code",
   "source": [
    "from tensorflow.keras.models import Sequential\n",
    "from tensorflow.keras.layers import Dense\n",
    "from tensorflow.keras.layers import Input\n",
    "\n",
    "# Define the model\n",
    "model = Sequential([\n",
    "    Input(shape=(16,)),  # Input layer with 7 features\n",
    "    Dense(10, activation='relu'),  # 10 hidden layers\n",
    "    Dense(1, activation='sigmoid')  # Output layer with sigmoid activation for binary classification\n",
    "])\n",
    "\n",
    "# Compile the model\n",
    "model.compile(optimizer='adam', loss='binary_crossentropy', metrics=['accuracy'])\n",
    "\n",
    "# Train the model and save the history\n",
    "history = model.fit(X_train, y_train, epochs=10, batch_size=10, validation_split=0.2)"
   ],
   "id": "841bd1f30d73b763",
   "outputs": [
    {
     "name": "stdout",
     "output_type": "stream",
     "text": [
      "Epoch 1/10\n",
      "\u001B[1m48000/48000\u001B[0m \u001B[32m━━━━━━━━━━━━━━━━━━━━\u001B[0m\u001B[37m\u001B[0m \u001B[1m116s\u001B[0m 2ms/step - accuracy: 0.9115 - loss: 0.1978 - val_accuracy: 0.9175 - val_loss: 0.1853\n",
      "Epoch 2/10\n",
      "\u001B[1m48000/48000\u001B[0m \u001B[32m━━━━━━━━━━━━━━━━━━━━\u001B[0m\u001B[37m\u001B[0m \u001B[1m110s\u001B[0m 2ms/step - accuracy: 0.9183 - loss: 0.1846 - val_accuracy: 0.9191 - val_loss: 0.1834\n",
      "Epoch 3/10\n",
      "\u001B[1m48000/48000\u001B[0m \u001B[32m━━━━━━━━━━━━━━━━━━━━\u001B[0m\u001B[37m\u001B[0m \u001B[1m112s\u001B[0m 2ms/step - accuracy: 0.9188 - loss: 0.1833 - val_accuracy: 0.9190 - val_loss: 0.1828\n",
      "Epoch 4/10\n",
      "\u001B[1m48000/48000\u001B[0m \u001B[32m━━━━━━━━━━━━━━━━━━━━\u001B[0m\u001B[37m\u001B[0m \u001B[1m120s\u001B[0m 2ms/step - accuracy: 0.9190 - loss: 0.1831 - val_accuracy: 0.9190 - val_loss: 0.1826\n",
      "Epoch 5/10\n",
      "\u001B[1m48000/48000\u001B[0m \u001B[32m━━━━━━━━━━━━━━━━━━━━\u001B[0m\u001B[37m\u001B[0m \u001B[1m114s\u001B[0m 2ms/step - accuracy: 0.9190 - loss: 0.1828 - val_accuracy: 0.9193 - val_loss: 0.1820\n",
      "Epoch 6/10\n",
      "\u001B[1m48000/48000\u001B[0m \u001B[32m━━━━━━━━━━━━━━━━━━━━\u001B[0m\u001B[37m\u001B[0m \u001B[1m116s\u001B[0m 2ms/step - accuracy: 0.9191 - loss: 0.1826 - val_accuracy: 0.9197 - val_loss: 0.1813\n",
      "Epoch 7/10\n",
      "\u001B[1m48000/48000\u001B[0m \u001B[32m━━━━━━━━━━━━━━━━━━━━\u001B[0m\u001B[37m\u001B[0m \u001B[1m125s\u001B[0m 3ms/step - accuracy: 0.9191 - loss: 0.1824 - val_accuracy: 0.9191 - val_loss: 0.1818\n",
      "Epoch 8/10\n",
      "\u001B[1m48000/48000\u001B[0m \u001B[32m━━━━━━━━━━━━━━━━━━━━\u001B[0m\u001B[37m\u001B[0m \u001B[1m110s\u001B[0m 2ms/step - accuracy: 0.9193 - loss: 0.1823 - val_accuracy: 0.9193 - val_loss: 0.1822\n",
      "Epoch 9/10\n",
      "\u001B[1m48000/48000\u001B[0m \u001B[32m━━━━━━━━━━━━━━━━━━━━\u001B[0m\u001B[37m\u001B[0m \u001B[1m116s\u001B[0m 2ms/step - accuracy: 0.9192 - loss: 0.1820 - val_accuracy: 0.9196 - val_loss: 0.1816\n",
      "Epoch 10/10\n",
      "\u001B[1m48000/48000\u001B[0m \u001B[32m━━━━━━━━━━━━━━━━━━━━\u001B[0m\u001B[37m\u001B[0m \u001B[1m115s\u001B[0m 2ms/step - accuracy: 0.9196 - loss: 0.1815 - val_accuracy: 0.9201 - val_loss: 0.1818\n"
     ]
    }
   ],
   "execution_count": 6
  },
  {
   "metadata": {
    "ExecuteTime": {
     "end_time": "2025-08-07T13:28:15.009093Z",
     "start_time": "2025-08-07T13:28:05.460093Z"
    }
   },
   "cell_type": "code",
   "source": [
    "# Evaluate the model on the test set\n",
    "loss, accuracy = model.evaluate(X_test, y_test)\n",
    "print(f\"Test Accuracy: {accuracy}\")\n",
    "print(f\"Test Loss: {loss}\")"
   ],
   "id": "97ce2377bce80c2",
   "outputs": [
    {
     "name": "stdout",
     "output_type": "stream",
     "text": [
      "\u001B[1m4688/4688\u001B[0m \u001B[32m━━━━━━━━━━━━━━━━━━━━\u001B[0m\u001B[37m\u001B[0m \u001B[1m9s\u001B[0m 2ms/step - accuracy: 0.9196 - loss: 0.1823\n",
      "Test Accuracy: 0.9196133613586426\n",
      "Test Loss: 0.1822865754365921\n"
     ]
    }
   ],
   "execution_count": 7
  },
  {
   "metadata": {
    "ExecuteTime": {
     "end_time": "2025-08-07T13:29:30.786196Z",
     "start_time": "2025-08-07T13:29:30.719654Z"
    }
   },
   "cell_type": "code",
   "source": "model.save('./saved_models/model.keras')",
   "id": "7983ac71c4a349d8",
   "outputs": [],
   "execution_count": 8
  },
  {
   "metadata": {
    "ExecuteTime": {
     "end_time": "2025-08-07T13:30:24.606140Z",
     "start_time": "2025-08-07T13:30:24.544854Z"
    }
   },
   "cell_type": "code",
   "source": [
    "from tensorflow.keras.models import load_model\n",
    "\n",
    "model = load_model('./saved_models/model.keras')"
   ],
   "id": "b32c8c97ab97f27c",
   "outputs": [],
   "execution_count": 9
  },
  {
   "metadata": {
    "ExecuteTime": {
     "end_time": "2025-08-07T13:31:29.241247Z",
     "start_time": "2025-08-07T13:31:29.233082Z"
    }
   },
   "cell_type": "code",
   "source": [
    "X_train = orig_df\n",
    "y_train = orig_target"
   ],
   "id": "60041ed7b4f26b75",
   "outputs": [],
   "execution_count": 10
  },
  {
   "metadata": {
    "ExecuteTime": {
     "end_time": "2025-08-07T13:32:17.639298Z",
     "start_time": "2025-08-07T13:31:36.796347Z"
    }
   },
   "cell_type": "code",
   "source": "model.fit(X_train, y_train, epochs=10, batch_size=10, validation_split=0.2)",
   "id": "428ff0987b8376f5",
   "outputs": [
    {
     "name": "stdout",
     "output_type": "stream",
     "text": [
      "Epoch 1/10\n",
      "\u001B[1m3617/3617\u001B[0m \u001B[32m━━━━━━━━━━━━━━━━━━━━\u001B[0m\u001B[37m\u001B[0m \u001B[1m4s\u001B[0m 1ms/step - accuracy: 0.9371 - loss: 0.1656 - val_accuracy: 0.7396 - val_loss: 0.6012\n",
      "Epoch 2/10\n",
      "\u001B[1m3617/3617\u001B[0m \u001B[32m━━━━━━━━━━━━━━━━━━━━\u001B[0m\u001B[37m\u001B[0m \u001B[1m4s\u001B[0m 1ms/step - accuracy: 0.9386 - loss: 0.1584 - val_accuracy: 0.7349 - val_loss: 0.6267\n",
      "Epoch 3/10\n",
      "\u001B[1m3617/3617\u001B[0m \u001B[32m━━━━━━━━━━━━━━━━━━━━\u001B[0m\u001B[37m\u001B[0m \u001B[1m4s\u001B[0m 1ms/step - accuracy: 0.9395 - loss: 0.1561 - val_accuracy: 0.7325 - val_loss: 0.6204\n",
      "Epoch 4/10\n",
      "\u001B[1m3617/3617\u001B[0m \u001B[32m━━━━━━━━━━━━━━━━━━━━\u001B[0m\u001B[37m\u001B[0m \u001B[1m4s\u001B[0m 1ms/step - accuracy: 0.9394 - loss: 0.1547 - val_accuracy: 0.7352 - val_loss: 0.5952\n",
      "Epoch 5/10\n",
      "\u001B[1m3617/3617\u001B[0m \u001B[32m━━━━━━━━━━━━━━━━━━━━\u001B[0m\u001B[37m\u001B[0m \u001B[1m4s\u001B[0m 1ms/step - accuracy: 0.9393 - loss: 0.1537 - val_accuracy: 0.7327 - val_loss: 0.6017\n",
      "Epoch 6/10\n",
      "\u001B[1m3617/3617\u001B[0m \u001B[32m━━━━━━━━━━━━━━━━━━━━\u001B[0m\u001B[37m\u001B[0m \u001B[1m4s\u001B[0m 1ms/step - accuracy: 0.9393 - loss: 0.1532 - val_accuracy: 0.7267 - val_loss: 0.6180\n",
      "Epoch 7/10\n",
      "\u001B[1m3617/3617\u001B[0m \u001B[32m━━━━━━━━━━━━━━━━━━━━\u001B[0m\u001B[37m\u001B[0m \u001B[1m4s\u001B[0m 1ms/step - accuracy: 0.9397 - loss: 0.1528 - val_accuracy: 0.7287 - val_loss: 0.6139\n",
      "Epoch 8/10\n",
      "\u001B[1m3617/3617\u001B[0m \u001B[32m━━━━━━━━━━━━━━━━━━━━\u001B[0m\u001B[37m\u001B[0m \u001B[1m4s\u001B[0m 1ms/step - accuracy: 0.9399 - loss: 0.1524 - val_accuracy: 0.7272 - val_loss: 0.6203\n",
      "Epoch 9/10\n",
      "\u001B[1m3617/3617\u001B[0m \u001B[32m━━━━━━━━━━━━━━━━━━━━\u001B[0m\u001B[37m\u001B[0m \u001B[1m5s\u001B[0m 1ms/step - accuracy: 0.9394 - loss: 0.1516 - val_accuracy: 0.7216 - val_loss: 0.6712\n",
      "Epoch 10/10\n",
      "\u001B[1m3617/3617\u001B[0m \u001B[32m━━━━━━━━━━━━━━━━━━━━\u001B[0m\u001B[37m\u001B[0m \u001B[1m4s\u001B[0m 1ms/step - accuracy: 0.9404 - loss: 0.1514 - val_accuracy: 0.7250 - val_loss: 0.6326\n"
     ]
    },
    {
     "data": {
      "text/plain": [
       "<keras.src.callbacks.history.History at 0x24d9c7a3cb0>"
      ]
     },
     "execution_count": 11,
     "metadata": {},
     "output_type": "execute_result"
    }
   ],
   "execution_count": 11
  },
  {
   "metadata": {
    "ExecuteTime": {
     "end_time": "2025-08-07T13:34:49.865643Z",
     "start_time": "2025-08-07T13:34:46.568416Z"
    }
   },
   "cell_type": "code",
   "source": [
    "# Evaluate the model on the test set\n",
    "loss, accuracy = model.evaluate(X_test, y_test.to_numpy())\n",
    "print(f\"Test Accuracy: {accuracy}\")\n",
    "print(f\"Test Loss: {loss}\")"
   ],
   "id": "eb022c0980f8ffc2",
   "outputs": [
    {
     "name": "stdout",
     "output_type": "stream",
     "text": [
      "\u001B[1m4688/4688\u001B[0m \u001B[32m━━━━━━━━━━━━━━━━━━━━\u001B[0m\u001B[37m\u001B[0m \u001B[1m3s\u001B[0m 690us/step - accuracy: 0.9037 - loss: 0.2231\n",
      "Test Accuracy: 0.9037200212478638\n",
      "Test Loss: 0.22308942675590515\n"
     ]
    }
   ],
   "execution_count": 14
  }
 ],
 "metadata": {
  "kernelspec": {
   "display_name": "Python 3",
   "language": "python",
   "name": "python3"
  },
  "language_info": {
   "codemirror_mode": {
    "name": "ipython",
    "version": 2
   },
   "file_extension": ".py",
   "mimetype": "text/x-python",
   "name": "python",
   "nbconvert_exporter": "python",
   "pygments_lexer": "ipython2",
   "version": "2.7.6"
  }
 },
 "nbformat": 4,
 "nbformat_minor": 5
}
